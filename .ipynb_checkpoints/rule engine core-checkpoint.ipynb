{
 "cells": [
  {
   "cell_type": "code",
   "execution_count": 1,
   "metadata": {},
   "outputs": [],
   "source": [
    "# Door = type(\"Door\",(),{\"t1\":\"\"})\n",
    "# doors = [Door() for i in range(5)]\n",
    "\n",
    "# Building = type(\"Building\",(),{\"t2\":'','t3':'',__init__:lambda self, t2=t2: __init__(self, t2)})\n",
    "# b1 = Building(t2=1)"
   ]
  },
  {
   "cell_type": "code",
   "execution_count": 2,
   "metadata": {},
   "outputs": [],
   "source": [
    "# dict(__init__=lambda self, i=i: Animal.__init__(self, i))"
   ]
  },
  {
   "cell_type": "code",
   "execution_count": 3,
   "metadata": {},
   "outputs": [],
   "source": [
    "\n",
    "# tree = [\n",
    "#   {\n",
    "#     \"children\": [\n",
    "#       {\n",
    "#         \"key\": 72, \n",
    "#         \"title\": \"i3 (floor)\"\n",
    "#       }, \n",
    "#       {\n",
    "#         \"key\": 82, \n",
    "#         \"title\": \"i4 (floor)\"\n",
    "#       }\n",
    "#     ], \n",
    "#     \"expanded\": True\n",
    "#       , \n",
    "#     \"key\": 32, \n",
    "#     \"title\": \"i2 (Building)\"\n",
    "#   }\n",
    "# ]\n",
    "\n",
    "# # py_script=\"\"\"\n",
    "# def create_Class(name , childs_att ,parms_att):\n",
    "#     args = {}\n",
    "#     for i in childs_att:\n",
    "#         args[i]=\"\"\n",
    "#     for i in parms_att:\n",
    "#         args[i]=\"\"\n",
    "        \n",
    "#     return type(name,(),args)\n",
    "\n",
    "\n",
    "\n",
    "# Building = create_Class(\"Building\",[\"i3\",\"i4\"],[\"i2\"])\n",
    "## \"\"\""
   ]
  },
  {
   "cell_type": "code",
   "execution_count": 4,
   "metadata": {},
   "outputs": [],
   "source": [
    "# Building.i4"
   ]
  },
  {
   "cell_type": "code",
   "execution_count": null,
   "metadata": {},
   "outputs": [],
   "source": []
  },
  {
   "cell_type": "code",
   "execution_count": 5,
   "metadata": {},
   "outputs": [],
   "source": [
    "# class temp:\n",
    "#     def __init__(self,t):\n",
    "#         self.t=t\n",
    "# te = temp(1)\n",
    "# te.t"
   ]
  },
  {
   "cell_type": "code",
   "execution_count": 6,
   "metadata": {},
   "outputs": [],
   "source": [
    "# compiled_py_script = compile(\"te.t\\na=1+2\",filename=\"comiplateion.py\",mode=\"exec\")\n",
    "# exic(compiled_py_script)\n"
   ]
  },
  {
   "cell_type": "code",
   "execution_count": 7,
   "metadata": {},
   "outputs": [],
   "source": [
    "\n",
    "# import json\n",
    "\n",
    "# codeobj = compile('import json\\nclass temp:\\n\\tdef __init__(self,t):\\n\\t\\tself.t=t\\nte = temp({})\\nx = te\\nprint (\"X is\", json.dumps(x.t))'.format(3), 'fakemodule', 'exec')\n",
    "# exec(codeobj)\n",
    "\n",
    "\n"
   ]
  },
  {
   "cell_type": "code",
   "execution_count": null,
   "metadata": {},
   "outputs": [],
   "source": []
  },
  {
   "cell_type": "code",
   "execution_count": 8,
   "metadata": {},
   "outputs": [],
   "source": [
    "class BaseClass(object):\n",
    "    def __init__(self, classtype):\n",
    "        self._type = classtype\n",
    "\n",
    "def ClassFactory(name, argnames=[], BaseClass=BaseClass):\n",
    "    def __init__(self, **kwargs):\n",
    "        setattr(self, \"logs\", [])\n",
    "        for key, value in kwargs.items():\n",
    "            if argnames:\n",
    "                if key not in argnames:\n",
    "                    raise TypeError(\"Argument %s not valid for %s\" \n",
    "                        % (key, self.__class__.__name__))\n",
    "\n",
    "            setattr(self, key, value)\n",
    "        BaseClass.__init__(self, name)#[:-len(\"Class\")])\n",
    "        \n",
    "    def check_rules(self):\n",
    "        \n",
    "        base=self.logging+\"\\n\"+self.att_str+\"\\n\"+self.rule_str\n",
    "        \n",
    "        codeobj = compile(base, 'fakemodule', 'exec')\n",
    "        self.env = {}\n",
    "        exec(codeobj,self.env,self.env)\n",
    "        \n",
    "        self.logs = self.env.get('inner_logs')\n",
    "\n",
    "        \n",
    "    newclass = type(name, (BaseClass,),{\"__init__\": __init__,\"check_rules\":check_rules})\n",
    "    return newclass\n",
    "\n",
    "# SpecialClass = ClassFactory(\"SpecialClass\")#, [\"t1\",\"i3\",\"i4\"])\n",
    "# i21 = SpecialClass(t1=1)\n",
    "# i2 = SpecialClass(t1=1,i3=3,i4=5,doors=[i21])\n",
    "\n",
    "# print(i2.doors)"
   ]
  },
  {
   "cell_type": "code",
   "execution_count": null,
   "metadata": {},
   "outputs": [],
   "source": []
  },
  {
   "cell_type": "code",
   "execution_count": null,
   "metadata": {},
   "outputs": [],
   "source": []
  },
  {
   "cell_type": "code",
   "execution_count": 38,
   "metadata": {},
   "outputs": [
    {
     "name": "stdout",
     "output_type": "stream",
     "text": [
      "[<__main__.SpecialClass object at 0x10620c438>]\n"
     ]
    }
   ],
   "source": [
    "# base1 = \"\"\"\n",
    "# class BaseClass(object):\n",
    "#     def __init__(self, classtype):\n",
    "#         self._type = classtype\n",
    "\n",
    "# def ClassFactory(name, argnames=[], BaseClass=BaseClass):\n",
    "#     def __init__(self, **kwargs):\n",
    "#         for key, value in kwargs.items():\n",
    "#             if argnames:\n",
    "#                 if key not in argnames:\n",
    "#                     raise TypeError(\"Argument %s not valid for %s\" \n",
    "#                         % (key, self.__class__.__name__))\n",
    "\n",
    "#             setattr(self, key, value)\n",
    "#         BaseClass.__init__(self, name)\n",
    "#     newclass = type(name, (BaseClass,),{\"__init__\": __init__})\n",
    "#     return newclass\n",
    "# \"\"\"\n",
    "\n",
    "base1 =\"\"\"class BaseClass(object):\\n\\tdef __init__(self, classtype):\\n\\t\\tself._type = classtype\\n\\ndef ClassFactory(name, argnames=[], BaseClass=BaseClass):\\n\\tdef __init__(self, **kwargs):\\n\\t\\tfor key, value in kwargs.items():\\n\\t\\t\\tif argnames:\\n\\t\\t\\t\\tif key not in argnames:\\n\\t\\t\\t\\t\\traise TypeError(\"Argument %s not valid for %s\" % (key, self.__class__.__name__))\\n\\t\\t\\tsetattr(self, key, value)\\n\\t\\tBaseClass.__init__(self, name)\\n\\tnewclass = type(name, (BaseClass,),{\"__init__\": __init__})\\n\\treturn newclass\"\"\"\n",
    "base2 = \"\"\"\n",
    "SpecialClass = ClassFactory(\"SpecialClass\")\n",
    "i21 = SpecialClass(t1=1)\n",
    "i2 = SpecialClass(t1=1,i3=3,i4=5,{})\n",
    "\n",
    "print(i2.doors)\n",
    "\n",
    "rr = \"hell yeah\"\n",
    "\"\"\"\n",
    "import json\n",
    "\n",
    "base2 = base2.format(\"{}={}\".format(\"doors\",str(\"[\"+\",\".join([\"i21\"])+\"]\")))\n",
    "base = base1 + base2\n",
    "codeobj = compile(base, 'fakemodule', 'exec')\n",
    "#\n",
    "exec(codeobj)"
   ]
  },
  {
   "cell_type": "code",
   "execution_count": 35,
   "metadata": {},
   "outputs": [
    {
     "data": {
      "text/plain": [
       "'hell yeah'"
      ]
     },
     "execution_count": 35,
     "metadata": {},
     "output_type": "execute_result"
    }
   ],
   "source": [
    "rr"
   ]
  },
  {
   "cell_type": "code",
   "execution_count": 22,
   "metadata": {},
   "outputs": [
    {
     "data": {
      "text/plain": [
       "'doors=[i21]'"
      ]
     },
     "execution_count": 22,
     "metadata": {},
     "output_type": "execute_result"
    }
   ],
   "source": [
    "\"{}={}\".format(\"doors\",str(\"[\"+\",\".join([\"i21\"])+\"]\"))"
   ]
  },
  {
   "cell_type": "code",
   "execution_count": null,
   "metadata": {},
   "outputs": [],
   "source": []
  },
  {
   "cell_type": "code",
   "execution_count": null,
   "metadata": {},
   "outputs": [],
   "source": [
    "from collections import defaultdict\n",
    "def ORMScriptClassGeneration(obj):\n",
    "    return \"{} = ClassFactory('{}')\".format(obj.name)\n",
    "\n",
    "\n",
    "def ORMScriptClassInstanceGeneration(obj):\n",
    "    attributs = \"\"\n",
    "    if obj.parms:\n",
    "        attributs += \", \".join([\"{} = '{}'\".format(i.param.name ,i.value) for i in obj.parms])\n",
    "    if obj.childs:\n",
    "        chids_Arrays = defaultdict(list)\n",
    "        for i in obj.childs:\n",
    "            chids_Arrays[i.object_type.name+\"s\"].append(i.name)\n",
    "            \n",
    "        attributs += \",\" + \", \".join([\"{} = {}\".format(k,str(\"[\"+\",\".join(chids_Arrays[k])+\"]\")) for k in chids_Arrays])\n",
    "        attributs +=\",\" + \", \".join([\"{} = {}\".format(i.name ,i.name) for i in obj.childs])\n",
    "    \n",
    "    return \"{} = {}({})\".format(obj.name,obj.object_type.name,attributs)\n",
    "                                \n",
    "\n",
    "    \n",
    "def classes_generation(objects):\n",
    "    objects_str = \"\"\n",
    "    for obj in objects:\n",
    "        obj_str = ORMScriptClassGeneration(obj)\n",
    "        objects_str = obj_str +\"\\n\"+objects_str\n",
    "    return objects_str\n",
    "\n",
    "\n",
    "def instances_generation(root_obj):\n",
    "    instances_str = ORMScriptClassInstanceGeneration(root_obj)\n",
    "    children = base_page.childs\n",
    "    if children:\n",
    "        for child in children:\n",
    "            inst_str = ORMScriptClassInstanceGeneration(child)\n",
    "            instances_str = inst_str +\"\\n\"+instances_str\n",
    "    return instances_str\n",
    "    "
   ]
  },
  {
   "cell_type": "code",
   "execution_count": 33,
   "metadata": {},
   "outputs": [],
   "source": [
    "from collections import defaultdict\n",
    "\n",
    "class DynamicRuleEngine():\n",
    "    def __init__(self):\n",
    "        self.base1 =\"\"\"class BaseClass(object):\\n\\tdef __init__(self, classtype):\\n\\t\\tself._type = classtype\\n\\ndef ClassFactory(name, argnames=[], BaseClass=BaseClass):\\n\\tdef __init__(self, **kwargs):\\n\\t\\tfor key, value in kwargs.items():\\n\\t\\t\\tif argnames:\\n\\t\\t\\t\\tif key not in argnames:\\n\\t\\t\\t\\t\\traise TypeError(\"Argument %s not valid for %s\" % (key, self.__class__.__name__))\\n\\t\\t\\tsetattr(self, key, value)\\n\\t\\tBaseClass.__init__(self, name)\\n\\tnewclass = type(name, (BaseClass,),{\"__init__\": __init__})\\n\\treturn newclass\"\"\"\n",
    "        \n",
    "        self.base2 = \"\"\"\\n\"\"\"\n",
    "        \n",
    "    def ORMScriptClassGeneration(self, obj):\n",
    "        return \"{} = ClassFactory('{}')\".format(obj.name)\n",
    "\n",
    "\n",
    "    def ORMScriptClassInstanceGeneration(self, obj):\n",
    "        attributs = \"\"\n",
    "        if obj.parms:\n",
    "            attributs += \", \".join([\"{} = '{}'\".format(i.param.name ,i.value) for i in obj.parms])\n",
    "        if obj.childs:\n",
    "            chids_Arrays = defaultdict(list)\n",
    "            for i in obj.childs:\n",
    "                chids_Arrays[i.object_type.name+\"s\"].append(i.name)\n",
    "\n",
    "            attributs += \",\" + \", \".join([\"{} = {}\".format(k,str(\"[\"+\",\".join(chids_Arrays[k])+\"]\")) for k in chids_Arrays])\n",
    "            attributs +=\",\" + \", \".join([\"{} = {}\".format(i.name ,i.name) for i in obj.childs])\n",
    "\n",
    "        return \"{} = {}({})\".format(obj.name,obj.object_type.name,attributs)\n",
    "\n",
    "\n",
    "\n",
    "    def classes_generation(self, objects):\n",
    "        objects_str = \"\"\n",
    "        for obj in objects:\n",
    "            obj_str = self.ORMScriptClassGeneration(obj)\n",
    "            objects_str = obj_str +\"\\n\"+objects_str\n",
    "        return objects_str\n",
    "\n",
    "\n",
    "    def instances_generation(self, root_obj):\n",
    "        instances_str = self.ORMScriptClassInstanceGeneration(root_obj)\n",
    "        children = base_page.childs\n",
    "        if children:\n",
    "            for child in children:\n",
    "                inst_str = self.ORMScriptClassInstanceGeneration(child)\n",
    "                instances_str = inst_str +\"\\n\"+instances_str\n",
    "        return instances_str\n",
    "    \n",
    "    def fit(self, objects, instances_root):\n",
    "        self.base2+= self.classes_generation(objects)\n",
    "        self.base2+= self.instances_generation(instances_root)\n",
    "        \n",
    "    def run(self, log=0):\n",
    "        self.base = self.base1 + self.base2\n",
    "        self.base+=\"\\nprint('finished with no errors yeaa')\"\n",
    "        codeobj = compile(self.base, 'fakemodule', 'exec')\n",
    "        exec(codeobj)\n",
    "        \n"
   ]
  },
  {
   "cell_type": "code",
   "execution_count": null,
   "metadata": {},
   "outputs": [],
   "source": [
    "rule_engine = DynamicRuleEngine()\n",
    "rule_engine.fit(objects,root)\n",
    "rule_engine.run()"
   ]
  },
  {
   "cell_type": "code",
   "execution_count": null,
   "metadata": {},
   "outputs": [],
   "source": [
    "try:\n",
    "except RuntimeError"
   ]
  }
 ],
 "metadata": {
  "kernelspec": {
   "display_name": "Python 3",
   "language": "python",
   "name": "python3"
  },
  "language_info": {
   "codemirror_mode": {
    "name": "ipython",
    "version": 3
   },
   "file_extension": ".py",
   "mimetype": "text/x-python",
   "name": "python",
   "nbconvert_exporter": "python",
   "pygments_lexer": "ipython3",
   "version": "3.6.5"
  }
 },
 "nbformat": 4,
 "nbformat_minor": 2
}
